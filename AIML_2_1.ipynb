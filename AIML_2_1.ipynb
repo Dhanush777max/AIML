{
  "nbformat": 4,
  "nbformat_minor": 0,
  "metadata": {
    "colab": {
      "provenance": [],
      "authorship_tag": "ABX9TyNAoafXff4fW6MLtZS+3E70",
      "include_colab_link": true
    },
    "kernelspec": {
      "name": "python3",
      "display_name": "Python 3"
    },
    "language_info": {
      "name": "python"
    }
  },
  "cells": [
    {
      "cell_type": "markdown",
      "metadata": {
        "id": "view-in-github",
        "colab_type": "text"
      },
      "source": [
        "<a href=\"https://colab.research.google.com/github/Dhanush777max/AIML/blob/main/AIML_2_1.ipynb\" target=\"_parent\"><img src=\"https://colab.research.google.com/assets/colab-badge.svg\" alt=\"Open In Colab\"/></a>"
      ]
    },
    {
      "cell_type": "code",
      "source": [
        "# @title Default title text\n",
        "from collections import deque\n",
        "\n",
        "def bfs(graph, start):\n",
        "    queue = deque([start])\n",
        "    visited = set([start])\n",
        "\n",
        "    while queue:\n",
        "        vertex = queue.popleft()\n",
        "        print(vertex, end=' ')\n",
        "\n",
        "        for neighbor in graph[vertex]:\n",
        "            if neighbor not in visited:\n",
        "                visited.add(neighbor)\n",
        "                queue.append(neighbor)\n",
        "\n",
        "graph = {\n",
        "    0: [1, 3],\n",
        "    1: [0, 2, 4],\n",
        "    2: [1, 5],\n",
        "    3: [0, 4],\n",
        "    4: [1, 3, 5],\n",
        "    5: [2, 4]\n",
        "}\n",
        "\n",
        "bfs(graph, 0)\n"
      ],
      "metadata": {
        "colab": {
          "base_uri": "https://localhost:8080/"
        },
        "cellView": "code",
        "id": "b3G4Fq4w2k1A",
        "outputId": "7385a44a-0d2d-4617-e3d5-17f9da399dc4"
      },
      "execution_count": 3,
      "outputs": [
        {
          "output_type": "stream",
          "name": "stdout",
          "text": [
            "0 1 3 2 4 5 "
          ]
        }
      ]
    }
  ]
}