{
  "nbformat": 4,
  "nbformat_minor": 0,
  "metadata": {
    "colab": {
      "provenance": [],
      "authorship_tag": "ABX9TyNw20pvmanak7Qg3KP2XGIJ",
      "include_colab_link": true
    },
    "kernelspec": {
      "name": "python3",
      "display_name": "Python 3"
    },
    "language_info": {
      "name": "python"
    }
  },
  "cells": [
    {
      "cell_type": "markdown",
      "metadata": {
        "id": "view-in-github",
        "colab_type": "text"
      },
      "source": [
        "<a href=\"https://colab.research.google.com/github/Dhanush777max/AIML/blob/main/AIML_1_1.ipynb\" target=\"_parent\"><img src=\"https://colab.research.google.com/assets/colab-badge.svg\" alt=\"Open In Colab\"/></a>"
      ]
    },
    {
      "cell_type": "code",
      "execution_count": null,
      "metadata": {
        "colab": {
          "base_uri": "https://localhost:8080/"
        },
        "id": "rmJzg6f7xznN",
        "outputId": "6755f985-f53f-4b59-e2f8-6cded950e26f"
      },
      "outputs": [
        {
          "output_type": "stream",
          "name": "stdout",
          "text": [
            "[1, 2, 3]\n",
            "[1 2 3]\n",
            "<class 'numpy.ndarray'>\n",
            "[2 4 6]\n",
            "[2 4 6]\n",
            "[0.5 1.  1.5]\n",
            "[-1  0  1]\n",
            "[1 4 9]\n",
            "[0.84147098 0.90929743 0.14112001]\n",
            "[ 0.54030231 -0.41614684 -0.9899925 ]\n",
            "[ 1.55740772 -2.18503986 -0.14254654]\n"
          ]
        }
      ],
      "source": [
        "import numpy as np\n",
        "import pandas\n",
        "list = [1,2,3]\n",
        "print(list)\n",
        "a = np.array([1,2,3])\n",
        "print(a)\n",
        "b = type(a)\n",
        "print(b)\n",
        "c = np.array([1,2,3])\n",
        "d = a+c\n",
        "print(d)\n",
        "e = a*2\n",
        "print(e)\n",
        "f = a/2\n",
        "print(f)\n",
        "g = a-2\n",
        "print(g)\n",
        "h = a**2\n",
        "print(h)\n",
        "print(np.sin(a))\n",
        "print(np.cos(a))\n",
        "print(np.tan(a))"
      ]
    },
    {
      "cell_type": "code",
      "source": [],
      "metadata": {
        "id": "_pLyRH9E2WLX"
      },
      "execution_count": null,
      "outputs": []
    }
  ]
}